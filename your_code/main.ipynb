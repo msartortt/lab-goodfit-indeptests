{
 "cells": [
  {
   "cell_type": "markdown",
   "metadata": {},
   "source": [
    "## Question 1\n",
    "The following table indicates the number of 6-point scores in an American rugby match in the 1979 season.\n",
    "\n",
    "![](table1.png)\n",
    "\n",
    "Based on these results, we create a Poisson distribution with the sample mean parameter  = 2.435. Is there any reason to believe that at a .05 level the number of scores is a Poisson variable?"
   ]
  },
  {
   "cell_type": "code",
   "execution_count": 1,
   "metadata": {},
   "outputs": [],
   "source": [
    "# your answer here\n",
    "from scipy import stats\n",
    "import pandas as pd\n",
    "import numpy as np"
   ]
  },
  {
   "cell_type": "code",
   "execution_count": 6,
   "metadata": {},
   "outputs": [
    {
     "data": {
      "text/plain": [
       "Power_divergenceResult(statistic=7.560623449029273, pvalue=0.3729251902983722)"
      ]
     },
     "execution_count": 6,
     "metadata": {},
     "output_type": "execute_result"
    }
   ],
   "source": [
    "number_of_times = [35,99,104,110,62,25,10,3]\n",
    "n = 448\n",
    "sample_mean = 2.35\n",
    "alpha = 0.05\n",
    "\n",
    "expected = [stats.poisson(sample_mean).pmf(i)*n for i in range(8)]\n",
    "\n",
    "stats.chisquare(number_of_times, expected)"
   ]
  },
  {
   "cell_type": "markdown",
   "metadata": {},
   "source": [
    "H0: the sample does follows a Poisson distribution.\n",
    "    \n",
    "H1: the sample does not follows a Poisson distribution.\n",
    "\n",
    "\n",
    "As our p-value is bigger than our alpha of 5%, we are not able to reject the null hypotesis"
   ]
  },
  {
   "cell_type": "markdown",
   "metadata": {},
   "source": [
    "## BONUS/OPTIONAL - Question 2\n",
    "Let's analyze a discrete distribution. To analyze the number of defective items in a factory in the city of Medellín, we took a random sample of n = 60 articles and observed the number of defectives in the following table:\n",
    "\n",
    "![](table2.png)\n",
    "\n",
    "A poissón distribution was proposed since it is defined for x = 0,1,2,3, .... using the following model:\n",
    "\n",
    "![](image1.png)\n",
    "\n",
    "For some extra insights check the following link: https://online.stat.psu.edu/stat504/node/63/ \n",
    "\n",
    "Does the distribution of defective items follow this distribution?"
   ]
  },
  {
   "cell_type": "code",
   "execution_count": 12,
   "metadata": {},
   "outputs": [
    {
     "data": {
      "text/plain": [
       "Power_divergenceResult(statistic=6.3034965141828545, pvalue=0.09774272956839174)"
      ]
     },
     "execution_count": 12,
     "metadata": {},
     "output_type": "execute_result"
    }
   ],
   "source": [
    "# your code here\n",
    "observed_frequency = [32,15,9,4]\n",
    "n = 60\n",
    "sample_mean = ((32*0)+(15*1)+(9*3)+(4*4))/60\n",
    "alpha = 0.05\n",
    "\n",
    "expected = [stats.poisson(sample_mean).pmf(i)*n for i in range(4)]\n",
    "\n",
    "stats.chisquare(observed_frequency, expected)"
   ]
  },
  {
   "cell_type": "markdown",
   "metadata": {},
   "source": [
    "H0: the sample does follows a Poisson distribution.\n",
    "\n",
    "H1: the sample does not follows a Poisson distribution.\n",
    "\n",
    "As our p-value is bigger than our alpha of 5%, we are not able to reject the null hypotesis"
   ]
  },
  {
   "cell_type": "markdown",
   "metadata": {},
   "source": [
    "## Question 3\n",
    "A quality control engineer takes a sample of 10 tires that come out of an assembly line, and would like to verify on the basis of the data that follows, if the number of tires with defects observed over 200 days, if it is true that 5% of all tires have defects (that is, if the sample comes from a binomial population with n = 10 and p = 0.05). \n",
    "\n",
    "![](table3.png)\n"
   ]
  },
  {
   "cell_type": "code",
   "execution_count": 14,
   "metadata": {},
   "outputs": [
    {
     "data": {
      "text/plain": [
       "Power_divergenceResult(statistic=6.730152995610064, pvalue=0.034559372300758)"
      ]
     },
     "execution_count": 14,
     "metadata": {},
     "output_type": "execute_result"
    }
   ],
   "source": [
    "# your code here\n",
    "observed_frequency = [138,53,9]\n",
    "n = 10\n",
    "alpha = 0.05\n",
    "\n",
    "expected = [stats.binom(n,alpha).pmf(i) * 200 for i in range(3)]\n",
    "\n",
    "stats.chisquare(observed_frequency, expected)"
   ]
  },
  {
   "cell_type": "markdown",
   "metadata": {},
   "source": [
    "H0: the sample does follows a Binomial distribution.\n",
    "\n",
    "H1: the sample does not follows a Binomial distribution.\n",
    "\n",
    "As our p-value is lower than our alpha of 5%, we reject the null hypotesis"
   ]
  },
  {
   "cell_type": "markdown",
   "metadata": {},
   "source": [
    "## Question 4\n",
    "A researcher gathers information about the patterns of Physical Activity of children in the fifth grade of primary school of a public school. He defines three categories of physical activity (Low, Medium, High). He also inquires about the regular consumption of sugary drinks at school, and defines two categories (Yes = consumed, No = not consumed). We would like to evaluate if there is an association between patterns of physical activity and the consumption of sugary drinks for the children of this school, at a level of 5% significance. The results are in the following table: \n",
    "\n",
    "![](table4.png)"
   ]
  },
  {
   "cell_type": "code",
   "execution_count": 26,
   "metadata": {},
   "outputs": [
    {
     "data": {
      "text/plain": [
       "0.004719280137040844"
      ]
     },
     "execution_count": 26,
     "metadata": {},
     "output_type": "execute_result"
    }
   ],
   "source": [
    "#Chi-square test of independence of variables in a contingency table:\n",
    "# This function computes the chi-square statistic and p-value for the hypothesis test\n",
    "# of independence of the observed frequencies in the contingency table observed.\n",
    "# The expected frequencies are computed based on the marginal sums under the assumption of independence; see\n",
    "\n",
    "physical_act = {'low':[32,12],\n",
    "               'medium':[14,22],\n",
    "               'high':[6,9]}\n",
    "\n",
    "df = pd.DataFrame(physical_act).T\n",
    "df.rename({0:'yes',1:'no'},inplace=True)\n",
    "\n",
    "stats.chi2_contingency(df)[1]"
   ]
  },
  {
   "cell_type": "markdown",
   "metadata": {},
   "source": [
    "H0: there is an association between patterns of physical activity and the consumption of sugary drinks.\n",
    "\n",
    "H1: there isn't an association between patterns of physical activity and the consumption of sugary drinks.\n",
    "\n",
    "As our p-value is lower than our alpha of 5%, we reject the null hypotesis"
   ]
  }
 ],
 "metadata": {
  "kernelspec": {
   "display_name": "Python 3",
   "language": "python",
   "name": "python3"
  },
  "language_info": {
   "codemirror_mode": {
    "name": "ipython",
    "version": 3
   },
   "file_extension": ".py",
   "mimetype": "text/x-python",
   "name": "python",
   "nbconvert_exporter": "python",
   "pygments_lexer": "ipython3",
   "version": "3.8.8"
  }
 },
 "nbformat": 4,
 "nbformat_minor": 4
}
